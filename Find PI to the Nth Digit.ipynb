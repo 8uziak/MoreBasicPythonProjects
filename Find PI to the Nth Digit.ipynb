{
 "cells": [
  {
   "cell_type": "code",
   "execution_count": 2,
   "id": "bd68a29a",
   "metadata": {},
   "outputs": [
    {
     "name": "stdout",
     "output_type": "stream",
     "text": [
      ">>enter a number, it will represent how many numbers after the decimal point pi will have and then by it, it will be entered to the n-th power<<\n",
      "\n",
      ">Place a number (less than 10): 2\n",
      "3.14 to the power of 2 equals 9.86\n",
      "\n",
      "Do you want to continue? (y = yes, n = no): y\n",
      "\n",
      ">Place a number (less than 10): 9\n",
      "3.141592654 to the power of 9 equals 29809.099368477\n",
      "\n",
      "Do you want to continue? (y = yes, n = no): n\n"
     ]
    }
   ],
   "source": [
    "import math\n",
    "print('>>enter a number, it will represent how many numbers after the decimal point pi will have and then by it, it will be entered to the n-th power<<')\n",
    "\n",
    "program_on = True\n",
    "\n",
    "while program_on:\n",
    "    \n",
    "    try:\n",
    "        ipt = int(input('\\n>Place a number (less than 10): '))\n",
    "\n",
    "        if ipt < 11 and ipt > 0:\n",
    "            pi = round(math.pi, ipt)\n",
    "            pi_power = round(pi**ipt, ipt)\n",
    "            \n",
    "            print(f'{pi} to the power of {ipt} equals {pi_power}')\n",
    "            \n",
    "            i = input ('\\nDo you want to continue? (y = yes, n = no): ')\n",
    "            if i == 'n' or i == 'no':\n",
    "                program_on = False\n",
    "            else:\n",
    "                continue\n",
    "        \n",
    "            \n",
    "        else:\n",
    "            print(\"Number can't be under 1 and greater than 10\")\n",
    "            \n",
    "            i = input ('\\nDo you want to continue? (y = yes, n = no): ')\n",
    "            if i == 'n' or i == 'no':\n",
    "                program_on = False\n",
    "            else:\n",
    "                continue\n",
    "        \n",
    "    \n",
    "            \n",
    "    except:\n",
    "        print('\\n>this is not a number! Try again.')\n",
    "    \n",
    "\n"
   ]
  },
  {
   "cell_type": "code",
   "execution_count": null,
   "id": "9af663d2",
   "metadata": {},
   "outputs": [],
   "source": []
  },
  {
   "cell_type": "code",
   "execution_count": null,
   "id": "6af453b3",
   "metadata": {},
   "outputs": [],
   "source": []
  }
 ],
 "metadata": {
  "kernelspec": {
   "display_name": "Python 3 (ipykernel)",
   "language": "python",
   "name": "python3"
  },
  "language_info": {
   "codemirror_mode": {
    "name": "ipython",
    "version": 3
   },
   "file_extension": ".py",
   "mimetype": "text/x-python",
   "name": "python",
   "nbconvert_exporter": "python",
   "pygments_lexer": "ipython3",
   "version": "3.9.7"
  }
 },
 "nbformat": 4,
 "nbformat_minor": 5
}
