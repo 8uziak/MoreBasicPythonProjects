{
 "cells": [
  {
   "cell_type": "code",
   "execution_count": 10,
   "id": "2279b6a7",
   "metadata": {},
   "outputs": [
    {
     "name": "stdout",
     "output_type": "stream",
     "text": [
      ">>this program calculates the total cost of buying floor tiles\n",
      " \n",
      "Write lenght of your room (in meters): 2.7\n",
      "Write width of your room (in meters): 2.7\n",
      "Write cost per square meter of flooring: 5\n",
      "\n",
      "\n",
      "the total amount for the floor will be 36.45\n"
     ]
    }
   ],
   "source": [
    "print(\">>this program calculates the total cost of buying floor tiles\\n \")\n",
    "\n",
    "try:\n",
    "    length_in = float(input(\"Write lenght of your room (in meters): \"))\n",
    "    width_in = float(input(\"Write width of your room (in meters): \"))\n",
    "    cost_m2 = float(input('Write cost per square meter of flooring: '))\n",
    "except:\n",
    "    print('\\n\\n>>You can enter only numbers<<')\n",
    "\n",
    "square_field = length_in * width_in\n",
    "\n",
    "total_cost = square_field * cost_m2\n",
    "print(f'\\n\\nthe total amount for the floor will be {round(total_cost,2)}')"
   ]
  },
  {
   "cell_type": "markdown",
   "id": "9b0100da",
   "metadata": {},
   "source": []
  }
 ],
 "metadata": {
  "kernelspec": {
   "display_name": "Python 3 (ipykernel)",
   "language": "python",
   "name": "python3"
  },
  "language_info": {
   "codemirror_mode": {
    "name": "ipython",
    "version": 3
   },
   "file_extension": ".py",
   "mimetype": "text/x-python",
   "name": "python",
   "nbconvert_exporter": "python",
   "pygments_lexer": "ipython3",
   "version": "3.9.7"
  }
 },
 "nbformat": 4,
 "nbformat_minor": 5
}
