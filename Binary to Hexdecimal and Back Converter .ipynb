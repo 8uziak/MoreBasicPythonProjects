{
 "cells": [
  {
   "cell_type": "code",
   "execution_count": null,
   "id": "433487f7",
   "metadata": {},
   "outputs": [],
   "source": [
    "import math\n",
    "\n",
    "print('>>Welcome to binary to decimal & back coverter<<')\n",
    "print('\\n')\n",
    "print(\">If you want to convert binary number to hexdecimal write 'B' in the <input box>\")\n",
    "print(\">If you want to convert hexdecimal number to binary write 'HX' in the <input box>\")\n",
    "print('\\n')\n",
    "\n",
    "user_in = input('<input box> ')\n",
    "\n",
    "if user_in.upper() == 'B':\n",
    "    \n",
    "    try:\n",
    "        user_in_2 = int(input('Put your binary number here: '), 2)\n",
    "        print(f'Output: {hex(user_in_2)}')\n",
    "        \n",
    "    except: \n",
    "        print('Wrong input!')\n",
    "    \n",
    "    \n",
    "elif user_in.upper() == 'HX':\n",
    "    \n",
    "    try:\n",
    "        user_in_2 = int(input('Put your hexdecimal number here: '), 16)\n",
    "        print(f'Output: {bin(user_in_2)}')\n",
    "        \n",
    "    except: \n",
    "        print('Wrong input!')    \n",
    "    \n",
    "else:\n",
    "    \n",
    "    print('Wrong input!')"
   ]
  }
 ],
 "metadata": {
  "kernelspec": {
   "display_name": "Python 3 (ipykernel)",
   "language": "python",
   "name": "python3"
  },
  "language_info": {
   "codemirror_mode": {
    "name": "ipython",
    "version": 3
   },
   "file_extension": ".py",
   "mimetype": "text/x-python",
   "name": "python",
   "nbconvert_exporter": "python",
   "pygments_lexer": "ipython3",
   "version": "3.9.7"
  }
 },
 "nbformat": 4,
 "nbformat_minor": 5
}
