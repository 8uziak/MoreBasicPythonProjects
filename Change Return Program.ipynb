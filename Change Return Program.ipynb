{
 "cells": [
  {
   "cell_type": "code",
   "execution_count": 11,
   "id": "68e6a756",
   "metadata": {},
   "outputs": [
    {
     "name": "stdout",
     "output_type": "stream",
     "text": [
      "Hello, I am here to help you with your change!\n",
      "\n",
      "\n",
      ">tell me what the total of all your purchases is: 3.30\n",
      ">tell me how much money you have: 10\n",
      "\n",
      "\n",
      "You will receive 6 dollars and 70 change!\n"
     ]
    }
   ],
   "source": [
    "print('Hello, I am here to help you with your change!')\n",
    "print('\\n')\n",
    "total_in = float(input('>tell me what the total of all your purchases is: '))\n",
    "user_in = float(input('>tell me how much money you have: '))\n",
    "\n",
    "if total_in > user_in:\n",
    "    \n",
    "    total_in -= user_in\n",
    "    \n",
    "    zero_dot = total_in % 1\n",
    "    ab_num = int(total_in - round(zero_dot, 2))\n",
    "    cents = int(round(zero_dot, 2) * 100)\n",
    "    \n",
    "    print('\\n')\n",
    "    print('OH NO! It seems like you have not enough money ://')\n",
    "    print(f'You are missing {ab_num} dollars and {cents} cents!')\n",
    "\n",
    "else:\n",
    "    \n",
    "    user_in -= total_in\n",
    "    \n",
    "    zero_dot = user_in % 1\n",
    "    ab_num = int(user_in - round(zero_dot, 2))\n",
    "    cents = int(round(zero_dot, 2) * 100)\n",
    "    \n",
    "    print('\\n')\n",
    "    print(f'You will receive {ab_num} dollars and {cents} change!')\n",
    "    \n",
    "    \n",
    "    "
   ]
  }
 ],
 "metadata": {
  "kernelspec": {
   "display_name": "Python 3 (ipykernel)",
   "language": "python",
   "name": "python3"
  },
  "language_info": {
   "codemirror_mode": {
    "name": "ipython",
    "version": 3
   },
   "file_extension": ".py",
   "mimetype": "text/x-python",
   "name": "python",
   "nbconvert_exporter": "python",
   "pygments_lexer": "ipython3",
   "version": "3.9.7"
  }
 },
 "nbformat": 4,
 "nbformat_minor": 5
}
